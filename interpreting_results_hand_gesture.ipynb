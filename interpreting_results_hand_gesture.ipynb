{
  "nbformat": 4,
  "nbformat_minor": 0,
  "metadata": {
    "colab": {
      "name": "interpreting_results_hand_gesture.ipynb",
      "provenance": [],
      "authorship_tag": "ABX9TyMuCkJ2Pv4ac/nq424mXPSO",
      "include_colab_link": true
    },
    "kernelspec": {
      "name": "python3",
      "display_name": "Python 3"
    },
    "language_info": {
      "name": "python"
    }
  },
  "cells": [
    {
      "cell_type": "markdown",
      "metadata": {
        "id": "view-in-github",
        "colab_type": "text"
      },
      "source": [
        "<a href=\"https://colab.research.google.com/github/Praneeth-Palepu/HandGestureRecognition/blob/main/interpreting_results_hand_gesture.ipynb\" target=\"_parent\"><img src=\"https://colab.research.google.com/assets/colab-badge.svg\" alt=\"Open In Colab\"/></a>"
      ]
    },
    {
      "cell_type": "code",
      "metadata": {
        "id": "GFPScHuAZVVl"
      },
      "source": [
        "from keras.models import load_model\n",
        "import cv2\n",
        "import os\n",
        "import numpy as np\n",
        "import joblib"
      ],
      "execution_count": 14,
      "outputs": []
    },
    {
      "cell_type": "code",
      "metadata": {
        "colab": {
          "base_uri": "https://localhost:8080/"
        },
        "id": "s4JtCb9-ZZfd",
        "outputId": "a060e620-aaf1-4078-eb9d-6c8b58d5a57a"
      },
      "source": [
        "from google.colab import drive\n",
        "drive.mount('/content/drive/')"
      ],
      "execution_count": 2,
      "outputs": [
        {
          "output_type": "stream",
          "text": [
            "Mounted at /content/drive/\n"
          ],
          "name": "stdout"
        }
      ]
    },
    {
      "cell_type": "code",
      "metadata": {
        "id": "GkPEPa5VZeJH"
      },
      "source": [
        "model = load_model('/content/drive/My Drive/Gesture Joblib/gesture.joblib')"
      ],
      "execution_count": 3,
      "outputs": []
    },
    {
      "cell_type": "code",
      "metadata": {
        "id": "EA1NKEoQb0jf"
      },
      "source": [
        "le = joblib.load('/content/drive/My Drive/Gesture Joblib/label_encoder.joblib')"
      ],
      "execution_count": 16,
      "outputs": []
    },
    {
      "cell_type": "code",
      "metadata": {
        "id": "F-ElAay6bz_c"
      },
      "source": [
        ""
      ],
      "execution_count": null,
      "outputs": []
    },
    {
      "cell_type": "code",
      "metadata": {
        "id": "f4aoZ8tQZqZp"
      },
      "source": [
        "def process_test_images(img_path, img_size):\n",
        "  img_array = []\n",
        "  for img in os.listdir(img_path):\n",
        "    path = os.path.join(img_path, img)\n",
        "\n",
        "    img = cv2.imread(path)\n",
        "    img_rgb = cv2.cvtColor(img, cv2.COLOR_BGR2RGB)\n",
        "    img_res = cv2.resize(img_rgb, img_size)\n",
        "    img_res = img_res.astype('float32')/255\n",
        "\n",
        "    img_array.append(img_res)\n",
        "  \n",
        "  return np.array(img_array)\n",
        "\n"
      ],
      "execution_count": 7,
      "outputs": []
    },
    {
      "cell_type": "code",
      "metadata": {
        "id": "JFtYDvwZa_4Y"
      },
      "source": [
        "test_input = process_test_images('/content/test/', (128, 128))\n"
      ],
      "execution_count": 10,
      "outputs": []
    },
    {
      "cell_type": "code",
      "metadata": {
        "colab": {
          "base_uri": "https://localhost:8080/"
        },
        "id": "kUGNQ9Twba-Y",
        "outputId": "ed143497-da5b-4775-b052-43d0f7928306"
      },
      "source": [
        "test_input.shape"
      ],
      "execution_count": 11,
      "outputs": [
        {
          "output_type": "execute_result",
          "data": {
            "text/plain": [
              "(2, 128, 128, 3)"
            ]
          },
          "metadata": {
            "tags": []
          },
          "execution_count": 11
        }
      ]
    },
    {
      "cell_type": "code",
      "metadata": {
        "id": "L85VKYkVbgfu"
      },
      "source": [
        "test_input"
      ],
      "execution_count": null,
      "outputs": []
    },
    {
      "cell_type": "code",
      "metadata": {
        "colab": {
          "base_uri": "https://localhost:8080/"
        },
        "id": "c-GApsxwbmtV",
        "outputId": "f3c58413-3173-416d-bd69-f8f369795589"
      },
      "source": [
        "res = model.predict_classes(test_input)"
      ],
      "execution_count": 17,
      "outputs": [
        {
          "output_type": "stream",
          "text": [
            "/usr/local/lib/python3.7/dist-packages/keras/engine/sequential.py:450: UserWarning: `model.predict_classes()` is deprecated and will be removed after 2021-01-01. Please use instead:* `np.argmax(model.predict(x), axis=-1)`,   if your model does multi-class classification   (e.g. if it uses a `softmax` last-layer activation).* `(model.predict(x) > 0.5).astype(\"int32\")`,   if your model does binary classification   (e.g. if it uses a `sigmoid` last-layer activation).\n",
            "  warnings.warn('`model.predict_classes()` is deprecated and '\n"
          ],
          "name": "stderr"
        }
      ]
    },
    {
      "cell_type": "code",
      "metadata": {
        "colab": {
          "base_uri": "https://localhost:8080/"
        },
        "id": "mqJLkn7ybt6c",
        "outputId": "4963a978-8aa5-4fe8-a071-13041568a697"
      },
      "source": [
        ""
      ],
      "execution_count": 18,
      "outputs": [
        {
          "output_type": "execute_result",
          "data": {
            "text/plain": [
              "array([1, 0])"
            ]
          },
          "metadata": {
            "tags": []
          },
          "execution_count": 18
        }
      ]
    },
    {
      "cell_type": "code",
      "metadata": {
        "colab": {
          "base_uri": "https://localhost:8080/"
        },
        "id": "MxXztJCmcEwf",
        "outputId": "7d1a01a6-bb39-4c5b-b0b8-4f626cb8e18e"
      },
      "source": [
        "for value in res:\n",
        "  print(le.inverse_transform([value]))"
      ],
      "execution_count": 20,
      "outputs": [
        {
          "output_type": "stream",
          "text": [
            "['Thumbs Up']\n",
            "['Ok']\n"
          ],
          "name": "stdout"
        }
      ]
    },
    {
      "cell_type": "code",
      "metadata": {
        "id": "dESdGbl1cK_X"
      },
      "source": [
        ""
      ],
      "execution_count": null,
      "outputs": []
    }
  ]
}